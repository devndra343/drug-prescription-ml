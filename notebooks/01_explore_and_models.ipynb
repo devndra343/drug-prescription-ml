{
  "cells": [
    {
      "cell_type": "markdown",
      "metadata": {},
      "source": [
        "# Drug Prescription ML \u2013 Exploration Notebook\n",
        "\n",
        "This notebook demonstrates quick EDA and then calls the module CLIs for classification, regression, and clustering."
      ]
    },
    {
      "cell_type": "code",
      "execution_count": null,
      "metadata": {},
      "outputs": [],
      "source": [
        "import pandas as pd\n",
        "df = pd.read_csv('data/drug200.csv')\n",
        "df.head()"
      ]
    },
    {
      "cell_type": "markdown",
      "metadata": {},
      "source": [
        "## Run scripts (from notebook)"
      ]
    },
    {
      "cell_type": "code",
      "execution_count": null,
      "metadata": {},
      "outputs": [],
      "source": [
        "!python -m src.classification --model svm --outdir results\n",
        "!python -m src.classification --model nb --outdir results\n",
        "!python -m src.regression --outdir results\n",
        "!python -m src.clustering --outdir results"
      ]
    }
  ],
  "metadata": {
    "kernelspec": {
      "display_name": "Python 3",
      "language": "python",
      "name": "python3"
    },
    "language_info": {
      "name": "python",
      "version": "3.10"
    }
  },
  "nbformat": 4,
  "nbformat_minor": 5
}